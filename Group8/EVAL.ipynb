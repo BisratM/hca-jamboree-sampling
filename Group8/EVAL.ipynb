{
 "cells": [
  {
   "cell_type": "code",
   "execution_count": 2,
   "metadata": {},
   "outputs": [
    {
     "name": "stdout",
     "output_type": "stream",
     "text": [
      "Running Scanpy 0+unknown on 2018-04-10 21:39.\n",
      "Dependencies: anndata==0.5.8 numpy==1.14.2 scipy==1.0.1 pandas==0.22.0 scikit-learn==0.19.1 statsmodels==0.8.0 \n"
     ]
    }
   ],
   "source": [
    "# Script for multiple runs of wanderlust \n",
    "%load_ext autoreload\n",
    "%autoreload 2\n",
    "\n",
    "import warnings\n",
    "\n",
    "# data processing\n",
    "with warnings.catch_warnings():\n",
    "    warnings.simplefilter('ignore', FutureWarning)\n",
    "    import scanpy.api as sc\n",
    "import numpy as np\n",
    "import scanpy.api as sc\n",
    "import pandas as pd\n",
    "import os\n",
    "import scipy.sparse as sp\n",
    "\n",
    "# plotting\n",
    "import matplotlib\n",
    "import matplotlib.pyplot as plt\n",
    "import seaborn as sns\n",
    "%matplotlib inline\n",
    "\n",
    "sns.set_style('white')\n",
    "matplotlib.rcParams['figure.figsize'] = [4, 4]\n",
    "matplotlib.rcParams['figure.dpi'] = 100\n",
    "warnings.filterwarnings(action=\"ignore\", module=\"matplotlib\", message=\"findfont\")\n",
    "\n",
    "# change logging settings for scanpy\n",
    "sc.settings.verbosity = 4  # verbosity: errors (0), warnings (1), info (2), hints (3)\n",
    "sc.settings.set_figure_params(dpi=80)  # low dpi (dots per inch) yields small inline figures\n",
    "sc.settings.n_jobs = 30\n",
    "sc.logging.print_version_and_date()\n",
    "sc.logging.print_versions_dependencies_numerics()"
   ]
  },
  {
   "cell_type": "code",
   "execution_count": 3,
   "metadata": {},
   "outputs": [],
   "source": [
    "from sklearn.metrics import pairwise_distances\n",
    "def _find_cell_indices(adata, cells):\n",
    "    \"\"\"Function to find cell indices given index in the AnnData object\n",
    "    \"\"\"\n",
    "    return np.where(adata.obs_names.isin(cells))[0]\n",
    "        \n",
    "class SamplingDistanceEstimator:\n",
    "\n",
    "    def __init__(self, adata: sc.AnnData, ref_set_sigmas: pd.Series, ):\n",
    "        \"\"\"Class the computes the distance for the subsample. The score determines the \n",
    "        fraction of reference spheres that are unoccupied\n",
    "        \n",
    "        :param sc.AnnData adata: Scanpy AnnData object containing the normalized count matrix\n",
    "        :param pd.Series ref_set_sigmas: Pandas series representing the radii of the \n",
    "        reference set\n",
    "        \"\"\"\n",
    "        \n",
    "        if any(~ref_set_sigmas.index.isin(adata.obs_names)):\n",
    "            raise ValueError(\n",
    "                'Some of the cells in the reference set are not in the AnnData object. '\n",
    "                'Ensure that all the reference cells are in the AnnData object'\n",
    "            )\n",
    "        \n",
    "        self.adata = adata\n",
    "        self.ref_set = _find_cell_indices(adata, ref_set_sigmas.index)\n",
    "        self.sigmas = ref_set_sigmas[adata.obs_names[self.ref_set]].values\n",
    "        \n",
    "        \n",
    "    def determine_ref_occupancy(self, test_set: pd.Index, block_size=7500, n_jobs=1):\n",
    "        \"\"\" Function to determine the number of test cells occupying each\n",
    "        reference sphere\n",
    "        \n",
    "        :param pd.Index test_set: Pandas index of test set observation names\n",
    "        \"\"\"\n",
    "        if any(~test_set.isin(adata.obs_names)):\n",
    "            raise ValueError(\n",
    "                'Some of the cells in the test set are not in the AnnData object. '\n",
    "                'Ensure that all the test cells are in the AnnData object'\n",
    "            )\n",
    "        \n",
    "        # Test data\n",
    "        test_data = self.adata[_find_cell_indices(self.adata, test_set),].X\n",
    "            \n",
    "        # Compute counts in blocks\n",
    "        counts = np.zeros(len(self.ref_set))\n",
    "        blocks = np.linspace(0, len(self.ref_set), \n",
    "                             int(len(self.ref_set)/block_size)+1).astype(np.int)\n",
    "        for b in range(1, len(blocks)):\n",
    "            test_range = range(blocks[b-1], blocks[b])\n",
    "            ref_data = self.adata[self.ref_set[test_range],].X\n",
    "            dists = pairwise_distances(ref_data, test_data, n_jobs=n_jobs)\n",
    "            counts[test_range] = (dists < self.sigmas[test_range, np.newaxis]).sum(axis=1)\n",
    "            \n",
    "        return counts\n",
    "\n",
    "    \n",
    "    def determine_distance(self, test_set: pd.Index):\n",
    "        \"\"\" Function to determine the fraction of unoccoupied reference \n",
    "        spheres in the test set\n",
    "        \n",
    "        :param pd.Index test_set: Pandas index of test set observation names\n",
    "        \"\"\"\n",
    "        if any(~test_set.isin(adata.obs_names)):\n",
    "            raise ValueError(\n",
    "                'Some of the cells in the test set are not in the AnnData object. '\n",
    "                'Ensure that all the test cells are in the AnnData object'\n",
    "            )\n",
    "        counts = self.determine_ref_occupancy(test_set)\n",
    "        return np.sum(counts == 0)/len(counts), counts\n",
    "        \n",
    "    def determine_distance_from_occupancy(self, ref_sphere_counts):\n",
    "        \"\"\" Function to determine distance from ref spehere counts\n",
    "        \n",
    "        :param pd.Index test_set: Pandas index of test set observation names\n",
    "        \"\"\"\n",
    "        return np.sum(ref_sphere_counts==0)/len(ref_sphere_counts)\n",
    "        "
   ]
  },
  {
   "cell_type": "code",
   "execution_count": null,
   "metadata": {},
   "outputs": [],
   "source": []
  },
  {
   "cell_type": "code",
   "execution_count": 4,
   "metadata": {},
   "outputs": [],
   "source": [
    "adata = sc.read_h5ad('../../data/tasks/sampling/ica_bone_marrow.h5ad')"
   ]
  },
  {
   "cell_type": "code",
   "execution_count": 5,
   "metadata": {},
   "outputs": [],
   "source": [
    "ref_set_sigmas = pd.read_csv('../../data/tasks/sampling/ica_bone_marrow_ref_set_sigmas.csv', index_col=0, header=None).iloc[:, 0]"
   ]
  },
  {
   "cell_type": "code",
   "execution_count": 13,
   "metadata": {},
   "outputs": [],
   "source": [
    "def get_magic_number(file):\n",
    "    udata = sc.read(file)\n",
    "    our_set_=udata.obs_names\n",
    "    sc.pp.normalize_per_cell(adata, counts_per_cell_after=1e4)\n",
    "    sde = SamplingDistanceEstimator(adata, ref_set_sigmas)\n",
    "    dist, init_ref_sphere_counts = sde.determine_distance(our_set_)\n",
    "    print(file,dist)\n",
    "    return dist,init_ref_sphere_counts"
   ]
  },
  {
   "cell_type": "code",
   "execution_count": null,
   "metadata": {},
   "outputs": [],
   "source": []
  },
  {
   "cell_type": "code",
   "execution_count": 21,
   "metadata": {},
   "outputs": [],
   "source": [
    "file='./write/samp_data_v1.h5ad'"
   ]
  },
  {
   "cell_type": "code",
   "execution_count": 22,
   "metadata": {},
   "outputs": [
    {
     "name": "stdout",
     "output_type": "stream",
     "text": [
      "    normalizing by total count per cell\n",
      "    filtered out 0 cells that have less than 1 counts\n",
      "        finished (0:00:04.97): normalized adata.X and added\n",
      "        'n_counts', counts per cell before normalization (adata.obs)\n",
      "./write/samp_data_v1.h5ad 0.3738666666666667\n",
      "CPU times: user 5min 1s, sys: 3.12 s, total: 5min 4s\n",
      "Wall time: 5min 4s\n"
     ]
    }
   ],
   "source": [
    "%%time\n",
    "dist,init_ref_sphere_counts=get_magic_number(file)"
   ]
  },
  {
   "cell_type": "code",
   "execution_count": null,
   "metadata": {},
   "outputs": [],
   "source": []
  },
  {
   "cell_type": "code",
   "execution_count": 23,
   "metadata": {},
   "outputs": [],
   "source": [
    "file='./write/samp_data_v1_small.h5ad'"
   ]
  },
  {
   "cell_type": "code",
   "execution_count": 24,
   "metadata": {},
   "outputs": [
    {
     "name": "stdout",
     "output_type": "stream",
     "text": [
      "    normalizing by total count per cell\n",
      "    filtered out 0 cells that have less than 1 counts\n",
      "        finished (0:00:04.95): normalized adata.X and added\n",
      "        'n_counts', counts per cell before normalization (adata.obs)\n",
      "./write/samp_data_v1_small.h5ad 0.5168666666666667\n",
      "CPU times: user 2min 10s, sys: 1.84 s, total: 2min 12s\n",
      "Wall time: 2min 12s\n"
     ]
    }
   ],
   "source": [
    "%%time\n",
    "dist,init_ref_sphere_counts=get_magic_number(file)"
   ]
  },
  {
   "cell_type": "code",
   "execution_count": null,
   "metadata": {},
   "outputs": [],
   "source": []
  },
  {
   "cell_type": "code",
   "execution_count": 19,
   "metadata": {},
   "outputs": [],
   "source": [
    "file='./write/samp_data_v1_baseline_20k.h5ad'"
   ]
  },
  {
   "cell_type": "code",
   "execution_count": 20,
   "metadata": {},
   "outputs": [
    {
     "name": "stdout",
     "output_type": "stream",
     "text": [
      "    normalizing by total count per cell\n",
      "    filtered out 0 cells that have less than 1 counts\n",
      "        finished (0:00:04.95): normalized adata.X and added\n",
      "        'n_counts', counts per cell before normalization (adata.obs)\n",
      "./write/samp_data_v1_baseline_20k.h5ad 0.3712\n",
      "CPU times: user 3min 36s, sys: 2.59 s, total: 3min 39s\n",
      "Wall time: 3min 39s\n"
     ]
    }
   ],
   "source": [
    "%%time\n",
    "dist,init_ref_sphere_counts=get_magic_number(file)"
   ]
  },
  {
   "cell_type": "code",
   "execution_count": null,
   "metadata": {},
   "outputs": [],
   "source": []
  },
  {
   "cell_type": "code",
   "execution_count": 17,
   "metadata": {},
   "outputs": [],
   "source": [
    "file='./write/samp_data_v1_baseline_5k.h5ad'"
   ]
  },
  {
   "cell_type": "code",
   "execution_count": 18,
   "metadata": {},
   "outputs": [
    {
     "name": "stdout",
     "output_type": "stream",
     "text": [
      "    normalizing by total count per cell\n",
      "    filtered out 0 cells that have less than 1 counts\n",
      "        finished (0:00:04.96): normalized adata.X and added\n",
      "        'n_counts', counts per cell before normalization (adata.obs)\n",
      "./write/samp_data_v1_baseline_5k.h5ad 0.5971333333333333\n",
      "CPU times: user 1min 52s, sys: 1.85 s, total: 1min 54s\n",
      "Wall time: 1min 54s\n"
     ]
    }
   ],
   "source": [
    "%%time\n",
    "dist,init_ref_sphere_counts=get_magic_number(file)"
   ]
  },
  {
   "cell_type": "code",
   "execution_count": null,
   "metadata": {},
   "outputs": [],
   "source": []
  },
  {
   "cell_type": "code",
   "execution_count": 15,
   "metadata": {},
   "outputs": [],
   "source": [
    "file='./write/samp_data_v1_baseline_100.h5ad'"
   ]
  },
  {
   "cell_type": "code",
   "execution_count": 16,
   "metadata": {},
   "outputs": [
    {
     "name": "stdout",
     "output_type": "stream",
     "text": [
      "    normalizing by total count per cell\n",
      "    filtered out 0 cells that have less than 1 counts\n",
      "        finished (0:00:04.96): normalized adata.X and added\n",
      "        'n_counts', counts per cell before normalization (adata.obs)\n",
      "./write/samp_data_v1_baseline_100.h5ad 0.6972\n",
      "CPU times: user 1min 16s, sys: 1.66 s, total: 1min 17s\n",
      "Wall time: 1min 17s\n"
     ]
    }
   ],
   "source": [
    "%%time\n",
    "dist,init_ref_sphere_counts=get_magic_number(file)"
   ]
  },
  {
   "cell_type": "code",
   "execution_count": null,
   "metadata": {},
   "outputs": [],
   "source": []
  }
 ],
 "metadata": {
  "kernelspec": {
   "display_name": "Python 3",
   "language": "python",
   "name": "python3"
  },
  "language_info": {
   "codemirror_mode": {
    "name": "ipython",
    "version": 3
   },
   "file_extension": ".py",
   "mimetype": "text/x-python",
   "name": "python",
   "nbconvert_exporter": "python",
   "pygments_lexer": "ipython3",
   "version": "3.6.5"
  }
 },
 "nbformat": 4,
 "nbformat_minor": 2
}
